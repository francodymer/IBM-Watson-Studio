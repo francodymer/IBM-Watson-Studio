{
    "cells": [
        {
            "cell_type": "markdown",
            "metadata": {
                "collapsed": true
            },
            "source": "# My Jupyter Notebook on IBM Watson Studio"
        },
        {
            "cell_type": "markdown",
            "metadata": {},
            "source": "**Francisco Ameyedowo**\nData Scientist"
        },
        {
            "cell_type": "markdown",
            "metadata": {},
            "source": "*I am interested in data science because I want to learn new skills that will help me with a project a want to develp for the healthcare industry* "
        },
        {
            "cell_type": "markdown",
            "metadata": {},
            "source": "### A simple programe to compute the area of a circle when a user inputs the value for radius of the circle."
        },
        {
            "cell_type": "code",
            "execution_count": 1,
            "metadata": {},
            "outputs": [
                {
                    "name": "stdout",
                    "output_type": "stream",
                    "text": "Enter radius: \n7\n7.0\n153.93804002589985\n"
                }
            ],
            "source": "c_radius = input(\"Enter radius: \\n\")\ntry:\n    f_radius = float(c_radius)\n    print(f_radius)\nexcept:\n    print('Error, please enter numeric value')\n    \nimport math\nc_area = math.pi * math.pow(f_radius, 2)\nprint(c_area)"
        },
        {
            "cell_type": "markdown",
            "metadata": {},
            "source": "\n[Click here to github](https://github.com/)\n\n* List of math opreations:\n    * minus\n    * plus\n    * multiplication\n    \n[Click here to elephant image](https://www.gettyimages.com/detail/photo/group-of-african-elephants-in-the-wild-royalty-free-image/1128748845?adppopup=true)\n\n|Name||Age||Salary|\n|---||---||---|\n|James||25||35000|\n|Kelvin||35||50000|\n    \n "
        }
    ],
    "metadata": {
        "kernelspec": {
            "display_name": "Python 3.6",
            "language": "python",
            "name": "python3"
        },
        "language_info": {
            "codemirror_mode": {
                "name": "ipython",
                "version": 3
            },
            "file_extension": ".py",
            "mimetype": "text/x-python",
            "name": "python",
            "nbconvert_exporter": "python",
            "pygments_lexer": "ipython3",
            "version": "3.6.9"
        }
    },
    "nbformat": 4,
    "nbformat_minor": 1
}